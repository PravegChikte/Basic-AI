{
  "nbformat": 4,
  "nbformat_minor": 0,
  "metadata": {
    "colab": {
      "provenance": []
    },
    "kernelspec": {
      "name": "python3",
      "display_name": "Python 3"
    },
    "language_info": {
      "name": "python"
    }
  },
  "cells": [
    {
      "cell_type": "code",
      "execution_count": 2,
      "metadata": {
        "colab": {
          "base_uri": "https://localhost:8080/"
        },
        "id": "99oX2cUyI1GZ",
        "outputId": "f964b893-ccde-4309-8c2b-9692a72ea050"
      },
      "outputs": [
        {
          "output_type": "stream",
          "name": "stdout",
          "text": [
            "DFS traversal:\n",
            "A B D E F C "
          ]
        }
      ],
      "source": [
        "def dfs(graph, node, visited):\n",
        "    if node not in visited:\n",
        "        print(node, end=\" \")\n",
        "        visited.append(node)  # mark as visited\n",
        "        for neighbor in graph[node]:\n",
        "            dfs(graph, neighbor, visited)\n",
        "\n",
        "# Sample graph as adjacency list\n",
        "graph = {\n",
        "    'A': ['B', 'C'],\n",
        "    'B': ['A', 'D', 'E'],\n",
        "    'C': ['A', 'F'],\n",
        "    'D': ['B'],\n",
        "    'E': ['B', 'F'],\n",
        "    'F': ['C', 'E']\n",
        "}\n",
        "\n",
        "visited = []\n",
        "print(\"DFS traversal:\")\n",
        "dfs(graph, 'A', visited)"
      ]
    }
  ]
}