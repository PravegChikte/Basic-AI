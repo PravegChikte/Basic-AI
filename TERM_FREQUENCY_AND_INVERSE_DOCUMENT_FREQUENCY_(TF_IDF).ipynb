{
  "nbformat": 4,
  "nbformat_minor": 0,
  "metadata": {
    "colab": {
      "provenance": []
    },
    "kernelspec": {
      "name": "python3",
      "display_name": "Python 3"
    },
    "language_info": {
      "name": "python"
    }
  },
  "cells": [
    {
      "cell_type": "code",
      "execution_count": 6,
      "metadata": {
        "colab": {
          "base_uri": "https://localhost:8080/"
        },
        "id": "99oX2cUyI1GZ",
        "outputId": "bfdd55ad-f789-4734-ce67-b61fa6d3d7bf"
      },
      "outputs": [
        {
          "output_type": "stream",
          "name": "stdout",
          "text": [
            "\n",
            "Document 1:\n",
            "brown: 0.406\n",
            "dog: 0.240\n",
            "fox: 0.309\n",
            "jumped: 0.406\n",
            "lazy: 0.309\n",
            "over: 0.309\n",
            "quick: 0.309\n",
            "the: 0.480\n",
            "\n",
            "Document 2:\n",
            "dog: 0.268\n",
            "jump: 0.454\n",
            "lazy: 0.345\n",
            "never: 0.454\n",
            "over: 0.345\n",
            "quickly: 0.454\n",
            "the: 0.268\n",
            "\n",
            "Document 3:\n",
            "and: 0.335\n",
            "clever: 0.335\n",
            "dog: 0.198\n",
            "fox: 0.255\n",
            "is: 0.670\n",
            "quick: 0.255\n",
            "the: 0.396\n"
          ]
        }
      ],
      "source": [
        "#TERM FREQUENCY AND INVERSE DOCUMENT FREQUENCY (TF-IDF)\n",
        "from sklearn.feature_extraction.text import TfidfVectorizer\n",
        "\n",
        "# Sample documents\n",
        "docs = [\n",
        "    \"the quick brown fox jumped over the lazy dog\",\n",
        "    \"never jump over the lazy dog quickly\",\n",
        "    \"the dog is quick and the fox is clever\"\n",
        "]\n",
        "\n",
        "# Create TF-IDF Vectorizer\n",
        "vectorizer = TfidfVectorizer()\n",
        "\n",
        "# Fit and transform documents\n",
        "tfidf_matrix = vectorizer.fit_transform(docs)\n",
        "\n",
        "# Get the words (features)\n",
        "words = vectorizer.get_feature_names_out()\n",
        "\n",
        "# Display TF-IDF values\n",
        "for i in range(len(docs)):\n",
        "    print(f\"\\nDocument {i+1}:\")\n",
        "    for j in range(len(words)):\n",
        "        value = tfidf_matrix[i, j]\n",
        "        if value > 0:\n",
        "            print(f\"{words[j]}: {value:.3f}\")"
      ]
    }
  ]
}