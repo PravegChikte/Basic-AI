{
  "nbformat": 4,
  "nbformat_minor": 0,
  "metadata": {
    "colab": {
      "provenance": []
    },
    "kernelspec": {
      "name": "python3",
      "display_name": "Python 3"
    },
    "language_info": {
      "name": "python"
    }
  },
  "cells": [
    {
      "cell_type": "code",
      "execution_count": 9,
      "metadata": {
        "colab": {
          "base_uri": "https://localhost:8080/"
        },
        "id": "99oX2cUyI1GZ",
        "outputId": "0bf83f44-e0e0-4f62-a5ee-3bc46456304a"
      },
      "outputs": [
        {
          "output_type": "stream",
          "name": "stdout",
          "text": [
            "\n",
            "  |   |  \n",
            "--+---+--\n",
            "  |   |  \n",
            "--+---+--\n",
            "  |   |  \n",
            "\n",
            "Player X, enter your move (1-9): 3\n",
            "\n",
            "  |   | X\n",
            "--+---+--\n",
            "  |   |  \n",
            "--+---+--\n",
            "  |   |  \n",
            "\n",
            "Player O, enter your move (1-9): 4\n",
            "\n",
            "  |   | X\n",
            "--+---+--\n",
            "O |   |  \n",
            "--+---+--\n",
            "  |   |  \n",
            "\n",
            "Player X, enter your move (1-9): 6\n",
            "\n",
            "  |   | X\n",
            "--+---+--\n",
            "O |   | X\n",
            "--+---+--\n",
            "  |   |  \n",
            "\n",
            "Player O, enter your move (1-9): 7\n",
            "\n",
            "  |   | X\n",
            "--+---+--\n",
            "O |   | X\n",
            "--+---+--\n",
            "O |   |  \n",
            "\n",
            "Player X, enter your move (1-9): 9\n",
            "\n",
            "  |   | X\n",
            "--+---+--\n",
            "O |   | X\n",
            "--+---+--\n",
            "O |   | X\n",
            "\n",
            "Player X wins!\n"
          ]
        }
      ],
      "source": [
        "#TIC TAC TOE GAME\n",
        "\n",
        "# Initialize board\n",
        "board = [' ' for _ in range(9)]\n",
        "\n",
        "# Print board\n",
        "def print_board():\n",
        "    print()\n",
        "    for i in range(3):\n",
        "        print(board[3*i], '|', board[3*i+1], '|', board[3*i+2])\n",
        "        if i < 2:\n",
        "            print('--+---+--')\n",
        "    print()\n",
        "\n",
        "# Check for win\n",
        "def check_win(player):\n",
        "    win_conditions = [\n",
        "        [0,1,2], [3,4,5], [6,7,8],  # rows\n",
        "        [0,3,6], [1,4,7], [2,5,8],  # columns\n",
        "        [0,4,8], [2,4,6]            # diagonals\n",
        "    ]\n",
        "    for combo in win_conditions:\n",
        "        if board[combo[0]] == board[combo[1]] == board[combo[2]] == player:\n",
        "            return True\n",
        "    return False\n",
        "\n",
        "# Check for draw\n",
        "def check_draw():\n",
        "    return ' ' not in board\n",
        "\n",
        "# Main game loop\n",
        "def play_game():\n",
        "    current_player = 'X'\n",
        "    print_board()\n",
        "    while True:\n",
        "        move = int(input(f\"Player {current_player}, enter your move (1-9): \")) - 1\n",
        "        if board[move] == ' ':\n",
        "            board[move] = current_player\n",
        "            print_board()\n",
        "            if check_win(current_player):\n",
        "                print(f\"Player {current_player} wins!\")\n",
        "                break\n",
        "            if check_draw():\n",
        "                print(\"It's a draw!\")\n",
        "                break\n",
        "            current_player = 'O' if current_player == 'X' else 'X'\n",
        "        else:\n",
        "            print(\"That spot is already taken. Try again.\")\n",
        "\n",
        "play_game()\n"
      ]
    }
  ]
}