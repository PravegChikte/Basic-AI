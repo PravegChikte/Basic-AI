{
  "nbformat": 4,
  "nbformat_minor": 0,
  "metadata": {
    "colab": {
      "provenance": []
    },
    "kernelspec": {
      "name": "python3",
      "display_name": "Python 3"
    },
    "language_info": {
      "name": "python"
    }
  },
  "cells": [
    {
      "cell_type": "code",
      "execution_count": 6,
      "metadata": {
        "colab": {
          "base_uri": "https://localhost:8080/"
        },
        "id": "99oX2cUyI1GZ",
        "outputId": "bfdd55ad-f789-4734-ce67-b61fa6d3d7bf"
      },
      "outputs": [
        {
          "output_type": "stream",
          "name": "stdout",
          "text": [
            "\n",
            "Document 1:\n",
            "brown: 0.406\n",
            "dog: 0.240\n",
            "fox: 0.309\n",
            "jumped: 0.406\n",
            "lazy: 0.309\n",
            "over: 0.309\n",
            "quick: 0.309\n",
            "the: 0.480\n",
            "\n",
            "Document 2:\n",
            "dog: 0.268\n",
            "jump: 0.454\n",
            "lazy: 0.345\n",
            "never: 0.454\n",
            "over: 0.345\n",
            "quickly: 0.454\n",
            "the: 0.268\n",
            "\n",
            "Document 3:\n",
            "and: 0.335\n",
            "clever: 0.335\n",
            "dog: 0.198\n",
            "fox: 0.255\n",
            "is: 0.670\n",
            "quick: 0.255\n",
            "the: 0.396\n"
          ]
        }
      ],
      "source": [
        "#FEATURE EXTRACTION AND ANALYSIS TECHNIQUES (NAIVE-BAYES)\n",
        "from sklearn.feature_extraction.text import CountVectorizer, TfidfVectorizer\n",
        "\n",
        "# Very simple text data\n",
        "documents = [\n",
        "    \"I love machine learning\",\n",
        "    \"Machine learning is fun\"\n",
        "]\n",
        "\n",
        "# --- Bag of Words ---\n",
        "print(\"Bag of Words:\")\n",
        "cv = CountVectorizer()\n",
        "bow = cv.fit_transform(documents)\n",
        "\n",
        "# Show word list\n",
        "print(\"Words:\", cv.get_feature_names_out())\n",
        "# Show matrix\n",
        "print(\"Matrix:\\n\", bow.toarray())\n",
        "\n",
        "# --- TF-IDF ---\n",
        "print(\"\\nTF-IDF:\")\n",
        "tfidf = TfidfVectorizer()\n",
        "tfidf_matrix = tfidf.fit_transform(documents)\n",
        "\n",
        "# Show word list\n",
        "print(\"Words:\", tfidf.get_feature_names_out())\n",
        "# Show matrix\n",
        "print(\"Matrix:\\n\", tfidf_matrix.toarray())\n"
      ]
    }
  ]
}