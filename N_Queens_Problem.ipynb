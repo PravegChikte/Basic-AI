{
  "nbformat": 4,
  "nbformat_minor": 0,
  "metadata": {
    "colab": {
      "provenance": []
    },
    "kernelspec": {
      "name": "python3",
      "display_name": "Python 3"
    },
    "language_info": {
      "name": "python"
    }
  },
  "cells": [
    {
      "cell_type": "code",
      "execution_count": 4,
      "metadata": {
        "colab": {
          "base_uri": "https://localhost:8080/"
        },
        "id": "99oX2cUyI1GZ",
        "outputId": "b37f688f-137e-439f-8531-ef8a85b424c5"
      },
      "outputs": [
        {
          "output_type": "stream",
          "name": "stdout",
          "text": [
            "One of the solutions:\n",
            "Q . . . . . . .\n",
            ". . . . Q . . .\n",
            ". . . . . . . Q\n",
            ". . . . . Q . .\n",
            ". . Q . . . . .\n",
            ". . . . . . Q .\n",
            ". Q . . . . . .\n",
            ". . . Q . . . .\n",
            "\n"
          ]
        },
        {
          "output_type": "execute_result",
          "data": {
            "text/plain": [
              "True"
            ]
          },
          "metadata": {},
          "execution_count": 4
        }
      ],
      "source": [
        "def print_board(board):\n",
        "    for row in board:\n",
        "        print(\" \".join(row))\n",
        "    print()\n",
        "\n",
        "def is_safe(board, row, col):\n",
        "    # Check column\n",
        "    for i in range(row):\n",
        "        if board[i][col] == 'Q':\n",
        "            return False\n",
        "\n",
        "    # Check upper-left diagonal\n",
        "    for i, j in zip(range(row-1, -1, -1), range(col-1, -1, -1)):\n",
        "        if board[i][j] == 'Q':\n",
        "            return False\n",
        "\n",
        "    # Check upper-right diagonal\n",
        "    for i, j in zip(range(row-1, -1, -1), range(col+1, 8)):\n",
        "        if board[i][j] == 'Q':\n",
        "            return False\n",
        "\n",
        "    return True\n",
        "\n",
        "def solve_queens(board, row):\n",
        "    if row == 8:\n",
        "        print(\"One of the solutions:\")\n",
        "        print_board(board)\n",
        "        return True\n",
        "\n",
        "    for col in range(8):\n",
        "        if is_safe(board, row, col):\n",
        "            board[row][col] = 'Q'\n",
        "            if solve_queens(board, row + 1):\n",
        "                return True\n",
        "            board[row][col] = '.'  # backtrack\n",
        "\n",
        "    return False\n",
        "\n",
        "# Initialize 8x8 board\n",
        "board = [['.' for _ in range(8)] for _ in range(8)]\n",
        "\n",
        "# Solve and display\n",
        "solve_queens(board, 0)"
      ]
    },
    {
      "cell_type": "code",
      "source": [],
      "metadata": {
        "id": "aHshOSwGJiMl"
      },
      "execution_count": null,
      "outputs": []
    }
  ]
}