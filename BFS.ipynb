{
  "nbformat": 4,
  "nbformat_minor": 0,
  "metadata": {
    "colab": {
      "provenance": []
    },
    "kernelspec": {
      "name": "python3",
      "display_name": "Python 3"
    },
    "language_info": {
      "name": "python"
    }
  },
  "cells": [
    {
      "cell_type": "code",
      "execution_count": 1,
      "metadata": {
        "id": "99oX2cUyI1GZ",
        "outputId": "a67924f2-3bbc-4254-a3e3-89d015e25cea",
        "colab": {
          "base_uri": "https://localhost:8080/"
        }
      },
      "outputs": [
        {
          "output_type": "stream",
          "name": "stdout",
          "text": [
            "BFS traversal:\n",
            "A B C D E F "
          ]
        }
      ],
      "source": [
        "from collections import deque\n",
        "\n",
        "def bfs(graph, start_node):\n",
        "    visited = []  # now using a list instead of a set\n",
        "    queue = deque([start_node])\n",
        "\n",
        "    print(\"BFS traversal:\")\n",
        "    while queue:\n",
        "        current = queue.popleft()\n",
        "        if current not in visited:\n",
        "            print(current, end=\" \")\n",
        "            visited.append(current)  # mark as visited\n",
        "            for neighbor in graph[current]:\n",
        "                if neighbor not in visited and neighbor not in queue:\n",
        "                    queue.append(neighbor)\n",
        "\n",
        "# Sample graph as adjacency list\n",
        "graph = {\n",
        "    'A': ['B', 'C'],\n",
        "    'B': ['A', 'D', 'E'],\n",
        "    'C': ['A', 'F'],\n",
        "    'D': ['B'],\n",
        "    'E': ['B', 'F'],\n",
        "    'F': ['C', 'E']\n",
        "}\n",
        "\n",
        "bfs(graph, 'A')"
      ]
    }
  ]
}