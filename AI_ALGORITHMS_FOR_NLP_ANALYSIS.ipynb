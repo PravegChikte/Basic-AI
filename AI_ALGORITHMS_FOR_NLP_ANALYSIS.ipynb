{
  "nbformat": 4,
  "nbformat_minor": 0,
  "metadata": {
    "colab": {
      "provenance": []
    },
    "kernelspec": {
      "name": "python3",
      "display_name": "Python 3"
    },
    "language_info": {
      "name": "python"
    }
  },
  "cells": [
    {
      "cell_type": "code",
      "execution_count": 8,
      "metadata": {
        "colab": {
          "base_uri": "https://localhost:8080/"
        },
        "id": "99oX2cUyI1GZ",
        "outputId": "03821afc-28e9-4a8c-c5e8-53ceaa90dad2"
      },
      "outputs": [
        {
          "output_type": "stream",
          "name": "stdout",
          "text": [
            "Predicted: ['negative' 'negative']\n",
            "Actual:    ['positive', 'positive']\n"
          ]
        }
      ],
      "source": [
        "#AI ALGORITHMS FOR NLP ANALYSIS\n",
        "\n",
        "from sklearn.feature_extraction.text import CountVectorizer\n",
        "from sklearn.naive_bayes import MultinomialNB\n",
        "from sklearn.model_selection import train_test_split\n",
        "\n",
        "# Step 1: Sample data\n",
        "texts = [\n",
        "    \"I love this product\",     # positive\n",
        "    \"This is amazing\",         # positive\n",
        "    \"I hate this\",             # negative\n",
        "    \"This is terrible\",        # negative\n",
        "    \"Very good experience\",    # positive\n",
        "    \"Not a good one\"           # negative\n",
        "]\n",
        "\n",
        "labels = ['positive', 'positive', 'negative', 'negative', 'positive', 'negative']\n",
        "\n",
        "# Step 2: Convert text to numbers\n",
        "vectorizer = CountVectorizer()\n",
        "X = vectorizer.fit_transform(texts)\n",
        "\n",
        "# Step 3: Train-test split\n",
        "X_train, X_test, y_train, y_test = train_test_split(X, labels, test_size=0.33, random_state=42)\n",
        "\n",
        "# Step 4: Train Naive Bayes classifier\n",
        "model = MultinomialNB()\n",
        "model.fit(X_train, y_train)\n",
        "\n",
        "# Step 5: Predict and test\n",
        "predicted = model.predict(X_test)\n",
        "print(\"Predicted:\", predicted)\n",
        "print(\"Actual:   \", y_test)\n",
        "\n"
      ]
    }
  ]
}