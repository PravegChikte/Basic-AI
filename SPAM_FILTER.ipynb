{
  "nbformat": 4,
  "nbformat_minor": 0,
  "metadata": {
    "colab": {
      "provenance": []
    },
    "kernelspec": {
      "name": "python3",
      "display_name": "Python 3"
    },
    "language_info": {
      "name": "python"
    }
  },
  "cells": [
    {
      "cell_type": "code",
      "execution_count": 7,
      "metadata": {
        "colab": {
          "base_uri": "https://localhost:8080/"
        },
        "id": "99oX2cUyI1GZ",
        "outputId": "1472b2c9-848f-445d-882b-57e60a4486b3"
      },
      "outputs": [
        {
          "output_type": "stream",
          "name": "stdout",
          "text": [
            "Meet me tomorrow => Spam\n",
            "Win cash now => Spam\n"
          ]
        }
      ],
      "source": [
        "#SPAM FILTER\n",
        "\n",
        "from sklearn.feature_extraction.text import CountVectorizer\n",
        "from sklearn.naive_bayes import MultinomialNB\n",
        "\n",
        "# Sample data\n",
        "texts = [\"Free money\", \"Call me now\", \"Let's meet\", \"You won a prize\"]\n",
        "labels = [1, 1, 0, 1]  # 1 = spam, 0 = not spam\n",
        "\n",
        "# Feature extraction\n",
        "vec = CountVectorizer()\n",
        "X = vec.fit_transform(texts)\n",
        "\n",
        "# Train model\n",
        "model = MultinomialNB()\n",
        "model.fit(X, labels)\n",
        "\n",
        "# Predict new message\n",
        "test = [\"Meet me tomorrow\", \"Win cash now\"]\n",
        "test_X = vec.transform(test)\n",
        "pred = model.predict(test_X)\n",
        "\n",
        "# Output\n",
        "for msg, label in zip(test, pred):\n",
        "    print(f\"{msg} => {'Spam' if label == 1 else 'Not Spam'}\")"
      ]
    }
  ]
}